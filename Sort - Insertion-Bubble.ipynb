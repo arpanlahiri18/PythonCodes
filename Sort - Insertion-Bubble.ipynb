{
 "cells": [
  {
   "cell_type": "markdown",
   "metadata": {},
   "source": [
    "Comparision between Insertion Sort,Insertion Sort with binary Search, Bubble Sort"
   ]
  },
  {
   "cell_type": "code",
   "execution_count": 1,
   "metadata": {},
   "outputs": [],
   "source": [
    "import time"
   ]
  },
  {
   "cell_type": "code",
   "execution_count": 2,
   "metadata": {},
   "outputs": [],
   "source": [
    "import random as rd \n",
    "mist =[]\n",
    "for i in range(0,10000):\n",
    "    x = rd.randint(1,10000)\n",
    "    mist.append(x)\n",
    "ai = mist\n",
    "bi = mist\n",
    "ci = mist"
   ]
  },
  {
   "cell_type": "code",
   "execution_count": 3,
   "metadata": {},
   "outputs": [],
   "source": [
    "def insertion(lst):\n",
    "    for i in range(1,len(lst)):\n",
    "        for j in range(i-1,-1,-1):\n",
    "            if lst[j]>lst[j+1]:\n",
    "                lst[j],lst[j+1] = lst[j+1],lst[j]\n",
    "            else:\n",
    "                break\n",
    "                    \n",
    "    return lst"
   ]
  },
  {
   "cell_type": "code",
   "execution_count": 4,
   "metadata": {},
   "outputs": [],
   "source": [
    "def insertion_b(lst):\n",
    "    for i in range(1,len(lst)):\n",
    "        binaryInsert(lst,i)\n",
    "                \n",
    "    return lst"
   ]
  },
  {
   "cell_type": "code",
   "execution_count": 5,
   "metadata": {},
   "outputs": [],
   "source": [
    "def bubble(lst):\n",
    "    for i in range(1,len(lst)):\n",
    "        if lst[i-1]>lst[i]:\n",
    "            lst[i],lst[i-1]=lst[i-1],lst[i]\n",
    "            \n",
    "    return lst"
   ]
  },
  {
   "cell_type": "code",
   "execution_count": 7,
   "metadata": {},
   "outputs": [],
   "source": [
    "def bsearch(lst,elm,st,en):\n",
    "    if en-st>1:\n",
    "        if elm> lst[(st+en)//2]:\n",
    "            return bsearch(lst,elm,st=((st+en)//2)+1,en=en)\n",
    "        elif elm< lst[(st+en)//2]:\n",
    "            return bsearch(lst,elm,st=st,en=((st+en)//2)-1)\n",
    "        else:\n",
    "            return (st+en)//2\n",
    "    else:\n",
    "        return en  \n",
    "    \n",
    "    \n",
    "def binaryInsert(array,item):\n",
    "    c =bsearch(array,item,0,len(array))\n",
    "    if c<len(array)-1:\n",
    "        array.insert(c,item)\n",
    "    else:\n",
    "        array.append(item)\n",
    "    \n",
    "    \n",
    "    "
   ]
  },
  {
   "cell_type": "code",
   "execution_count": 8,
   "metadata": {},
   "outputs": [
    {
     "name": "stdout",
     "output_type": "stream",
     "text": [
      "17.17021083831787\n"
     ]
    }
   ],
   "source": [
    "seconds = time.time()\n",
    "c = insertion(ai)\n",
    "print(time.time() - seconds)"
   ]
  },
  {
   "cell_type": "code",
   "execution_count": 9,
   "metadata": {},
   "outputs": [
    {
     "name": "stdout",
     "output_type": "stream",
     "text": [
      "0.1841135025024414\n"
     ]
    }
   ],
   "source": [
    "seconds = time.time()\n",
    "d = insertion_b(bi)\n",
    "print(time.time() - seconds)"
   ]
  },
  {
   "cell_type": "code",
   "execution_count": 10,
   "metadata": {},
   "outputs": [
    {
     "name": "stdout",
     "output_type": "stream",
     "text": [
      "0.012000799179077148\n"
     ]
    }
   ],
   "source": [
    "seconds = time.time()\n",
    "f = bubble(ci)\n",
    "print(time.time() - seconds)"
   ]
  },
  {
   "cell_type": "code",
   "execution_count": 11,
   "metadata": {},
   "outputs": [
    {
     "name": "stdout",
     "output_type": "stream",
     "text": [
      "inser = inser_b\n",
      "inser = bubble\n",
      "inser_b = bubble\n"
     ]
    }
   ],
   "source": [
    "if (c==d):\n",
    "    print(\"inser = inser_b\")\n",
    "if (c==f):\n",
    "    print(\"inser = bubble\")\n",
    "if (f==d):\n",
    "    print(\"inser_b = bubble\")  "
   ]
  },
  {
   "cell_type": "code",
   "execution_count": null,
   "metadata": {},
   "outputs": [],
   "source": []
  }
 ],
 "metadata": {
  "kernelspec": {
   "display_name": "Python 3",
   "language": "python",
   "name": "python3"
  },
  "language_info": {
   "codemirror_mode": {
    "name": "ipython",
    "version": 3
   },
   "file_extension": ".py",
   "mimetype": "text/x-python",
   "name": "python",
   "nbconvert_exporter": "python",
   "pygments_lexer": "ipython3",
   "version": "3.6.5"
  }
 },
 "nbformat": 4,
 "nbformat_minor": 2
}
