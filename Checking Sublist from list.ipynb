{
 "cells": [
  {
   "cell_type": "code",
   "execution_count": null,
   "metadata": {},
   "outputs": [],
   "source": [
    "#Section 5, Lecture 39 \n",
    "\n",
    "#Write a Python program to check whether a list contains a sublist.\n",
    "# Input\n",
    "# a = [2,4,3,5,7]\n",
    "# b = [4,3]\n",
    "# c = [3,7]\n",
    "# print(is_Sublist(a, b))\n",
    "# print(is_Sublist(a, c))\n",
    "# Output"
   ]
  },
  {
   "cell_type": "code",
   "execution_count": null,
   "metadata": {},
   "outputs": [],
   "source": [
    "def is_sublist(li,sub_li):\n",
    "    x = set(li)|set(sub_li)\n",
    "    if len(x)==len(li):\n",
    "        print(\"Sublist\")\n",
    "    else:\n",
    "        print(\"Not a sublist\") \n",
    "\n",
    "lst1 = [str(x) for x in input(\"Enter the list 1:\" ).split(',')]\n",
    "lst2 = [str(x) for x in input(\"Enter the list 1:\" ).split(',')]\n",
    "print(lst1,\"\\n\",lst2)\n",
    "is_sublist(lst1, lst2)\n",
    "\n",
    "                "
   ]
  }
 ],
 "metadata": {
  "kernelspec": {
   "display_name": "Python 3",
   "language": "python",
   "name": "python3"
  },
  "language_info": {
   "codemirror_mode": {
    "name": "ipython",
    "version": 3
   },
   "file_extension": ".py",
   "mimetype": "text/x-python",
   "name": "python",
   "nbconvert_exporter": "python",
   "pygments_lexer": "ipython3",
   "version": "3.6.5"
  }
 },
 "nbformat": 4,
 "nbformat_minor": 2
}
