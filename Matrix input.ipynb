{
 "cells": [
  {
   "cell_type": "code",
   "execution_count": 23,
   "metadata": {},
   "outputs": [
    {
     "name": "stdout",
     "output_type": "stream",
     "text": [
      "Enter the matrix by adding space between element in row and add , between rows:122 78 98, 75 56 89 25 57, 74 85 96 14,12 45\n",
      "[[122, 78, 98, 0, 0], [75, 56, 89, 25, 57], [74, 85, 96, 14, 0], [12, 45, 0, 0, 0]]\n",
      "[75, 56, 89, 25, 57]\n"
     ]
    }
   ],
   "source": [
    "#Finding the matrix sutra\n",
    "\n",
    "#input matrix\n",
    "\n",
    "#Sample input = 122 78 98, 75 56 89 25 57, 74 85 96 14,12 45\n",
    "\n",
    "#Dont give two spaces between elements\n",
    "lst = [str(x) for x in input(\"Enter the matrix by adding space between element in row and add , between rows:\" ).split(',')]\n",
    "#print(lst)\n",
    "#Uncomment above to see the list of rows\n",
    "#splitting returned a list of string \n",
    "\n",
    "\n",
    "#initalizing variables \n",
    "matrix=[]\n",
    "maxi=0\n",
    "\n",
    "#Discretizing each string rows into individual integer element\n",
    "for a in range(0,len(lst)):\n",
    "    tempLst = [int(x) for x in (lst[a].strip()).split(' ')]\n",
    "    if maxi<len(tempLst):\n",
    "        maxi=len(tempLst)\n",
    "    matrix.append(tempLst)    \n",
    "\n",
    "#To standardize the row lengths    \n",
    "for i in range(0,len(matrix)):\n",
    "    while len(matrix[i])<maxi:\n",
    "        matrix[i].append(0)\n",
    "        \n",
    "print(matrix)        \n",
    "\n",
    "#print(matrix[row][coloumn]) try the below\n",
    "#print(matrix[1][3])\n"
   ]
  },
  {
   "cell_type": "code",
   "execution_count": null,
   "metadata": {},
   "outputs": [],
   "source": []
  },
  {
   "cell_type": "code",
   "execution_count": null,
   "metadata": {},
   "outputs": [],
   "source": []
  },
  {
   "cell_type": "code",
   "execution_count": null,
   "metadata": {},
   "outputs": [],
   "source": []
  }
 ],
 "metadata": {
  "kernelspec": {
   "display_name": "Python 3",
   "language": "python",
   "name": "python3"
  },
  "language_info": {
   "codemirror_mode": {
    "name": "ipython",
    "version": 3
   },
   "file_extension": ".py",
   "mimetype": "text/x-python",
   "name": "python",
   "nbconvert_exporter": "python",
   "pygments_lexer": "ipython3",
   "version": "3.6.5"
  }
 },
 "nbformat": 4,
 "nbformat_minor": 2
}
