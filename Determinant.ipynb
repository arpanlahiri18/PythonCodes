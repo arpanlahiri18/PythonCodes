{
 "cells": [
  {
   "cell_type": "code",
   "execution_count": null,
   "metadata": {},
   "outputs": [],
   "source": [
    "def Minor(mat,i,j):\n",
    "    return [row[:j]+row[j+1:] for row in (mat[:i]+mat[i+1:])]\n",
    "\n",
    "'''\n",
    "def Minor(mat,row=0,col=0):\n",
    "    if len(mat)>1:\n",
    "        del(mat[row])\n",
    "        for i in range(0,len(mat)):\n",
    "            del(mat[i][col])\n",
    "        return(mat)\n",
    "    else:\n",
    "        return(mat[0])\n",
    "'''\n",
    "\n",
    "def determinant(mat):\n",
    "    if len(mat)==2:\n",
    "        return mat[0][0]*mat[1][1]-mat[0][1]*mat[1][0]\n",
    "\n",
    "    det=0\n",
    "    for i in range(len(mat)):\n",
    "        det += (((-1)**i)*mat[0][i]*determinant(Minor(mat,0,i)))\n",
    "    return det\n",
    "\n",
    "'''a = [[11,23,32,43],[58,67,97,85],[80,77,88,66],[57,60,82,97]]\n",
    "b = [[1,2],[4,5]]\n",
    "print(a)\n",
    "print(determinant(b))\n",
    "print(Minor(a,1,3))\n",
    "'''"
   ]
  },
  {
   "cell_type": "code",
   "execution_count": null,
   "metadata": {},
   "outputs": [],
   "source": []
  }
 ],
 "metadata": {
  "kernelspec": {
   "display_name": "Python 3",
   "language": "python",
   "name": "python3"
  },
  "language_info": {
   "codemirror_mode": {
    "name": "ipython",
    "version": 3
   },
   "file_extension": ".py",
   "mimetype": "text/x-python",
   "name": "python",
   "nbconvert_exporter": "python",
   "pygments_lexer": "ipython3",
   "version": "3.6.5"
  }
 },
 "nbformat": 4,
 "nbformat_minor": 2
}
